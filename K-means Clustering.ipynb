{
 "cells": [
  {
   "cell_type": "code",
   "execution_count": 70,
   "metadata": {},
   "outputs": [],
   "source": [
    "coordinates = [[2,10],[2,5],[8,4],[5,8],[7,5],[6,4],[1,2],[4,9]]"
   ]
  },
  {
   "cell_type": "code",
   "execution_count": 71,
   "metadata": {},
   "outputs": [],
   "source": [
    "def euclidian_sq_dist(a,b):\n",
    "    return ((abs(a[0]-b[0]))+(abs(a[1]-b[1])))"
   ]
  },
  {
   "cell_type": "code",
   "execution_count": 72,
   "metadata": {},
   "outputs": [],
   "source": [
    "def avj(coordinates):\n",
    "    size = len(coordinates)\n",
    "    sumx=0\n",
    "    sumy=0\n",
    "    for i in coordinates:\n",
    "        sumx = sumx+i[0]\n",
    "        sumy = sumy+i[1]\n",
    "    return (sumx/size,sumy/size)"
   ]
  },
  {
   "cell_type": "code",
   "execution_count": 73,
   "metadata": {},
   "outputs": [],
   "source": [
    "def cluster_point_distance(cluster_coordinate,coordinates):\n",
    "    distance = []\n",
    "    for i in coordinates:\n",
    "        distance.append(euclidian_sq_dist(cluster_coordinate,i))\n",
    "    return distance"
   ]
  },
  {
   "cell_type": "code",
   "execution_count": 74,
   "metadata": {},
   "outputs": [],
   "source": [
    "#Initial Random Clusters (current clusters): [2,10],[5,8],[1,2]\n",
    "current_clusters = [[2,10],[5,8],[1,2]]"
   ]
  },
  {
   "cell_type": "code",
   "execution_count": 75,
   "metadata": {},
   "outputs": [],
   "source": [
    "def new_cluster_allotment(coordinates,current_clusters):\n",
    "    new_cluster1 = []\n",
    "    new_cluster2 = []\n",
    "    new_cluster3 = []\n",
    "    for i in coordinates:\n",
    "        dist=cluster_point_distance(i,current_clusters)\n",
    "        value=min(dist)\n",
    "        ind=dist.index(value)\n",
    "        if ind == 0 :\n",
    "            new_cluster1.append(i)\n",
    "        if ind == 1 :\n",
    "            new_cluster2.append(i)\n",
    "        if ind == 2 :\n",
    "            new_cluster3.append(i)\n",
    "    \n",
    "    new_clusters = []\n",
    "    new_clusters.append(avj(new_cluster1))\n",
    "    new_clusters.append(avj(new_cluster2))\n",
    "    new_clusters.append(avj(new_cluster3))\n",
    "    \n",
    "    return new_clusters\n",
    "            \n",
    "        "
   ]
  },
  {
   "cell_type": "code",
   "execution_count": 76,
   "metadata": {},
   "outputs": [],
   "source": [
    "#Coordinates:[2,10],[2,5],[8,4],[5,8],[7,5],[6,4],[1,2],[4,9]\n",
    "#Current cluster:[2,10],[5,8],[1,2]\n",
    "#Iteration 1: "
   ]
  },
  {
   "cell_type": "code",
   "execution_count": 77,
   "metadata": {
    "scrolled": true
   },
   "outputs": [
    {
     "data": {
      "text/plain": [
       "[(2.0, 10.0), (6.0, 6.0), (1.5, 3.5)]"
      ]
     },
     "execution_count": 77,
     "metadata": {},
     "output_type": "execute_result"
    }
   ],
   "source": [
    "iteration1_clusters = new_cluster_allotment(coordinates,current_clusters)\n",
    "iteration1_clusters"
   ]
  },
  {
   "cell_type": "code",
   "execution_count": 78,
   "metadata": {},
   "outputs": [],
   "source": [
    "#Coordinates:[2,10],[2,5],[8,4],[5,8],[7,5],[6,4],[1,2],[4,9]\n",
    "#Current cluster:(2.0, 10.0), (6.0, 6.0), (1.5, 3.5)\n",
    "#Iteration 2: "
   ]
  },
  {
   "cell_type": "code",
   "execution_count": 79,
   "metadata": {},
   "outputs": [
    {
     "data": {
      "text/plain": [
       "[(3.0, 9.5), (6.5, 5.25), (1.5, 3.5)]"
      ]
     },
     "execution_count": 79,
     "metadata": {},
     "output_type": "execute_result"
    }
   ],
   "source": [
    "iteration2_clusters = new_cluster_allotment(coordinates,iteration1_clusters)\n",
    "iteration2_clusters"
   ]
  },
  {
   "cell_type": "code",
   "execution_count": 80,
   "metadata": {},
   "outputs": [],
   "source": [
    "#Coordinates:[2,10],[2,5],[8,4],[5,8],[7,5],[6,4],[1,2],[4,9]\n",
    "#Current cluster:(3.0, 9.5), (6.5, 5.25), (1.5, 3.5)\n",
    "#Iteration 3: "
   ]
  },
  {
   "cell_type": "code",
   "execution_count": 81,
   "metadata": {},
   "outputs": [
    {
     "data": {
      "text/plain": [
       "[(3.6666666666666665, 9.0), (7.0, 4.333333333333333), (1.5, 3.5)]"
      ]
     },
     "execution_count": 81,
     "metadata": {},
     "output_type": "execute_result"
    }
   ],
   "source": [
    "iteration3_clusters = new_cluster_allotment(coordinates,iteration2_clusters)\n",
    "iteration3_clusters"
   ]
  },
  {
   "cell_type": "code",
   "execution_count": 82,
   "metadata": {},
   "outputs": [],
   "source": [
    "#Coordinates:[2,10],[2,5],[8,4],[5,8],[7,5],[6,4],[1,2],[4,9]\n",
    "#Current cluster:(3.6666666666666665, 9.0), (7.0, 4.333333333333333), (1.5, 3.5)\n",
    "#Iteration 4: "
   ]
  },
  {
   "cell_type": "code",
   "execution_count": 83,
   "metadata": {},
   "outputs": [
    {
     "data": {
      "text/plain": [
       "[(3.6666666666666665, 9.0), (7.0, 4.333333333333333), (1.5, 3.5)]"
      ]
     },
     "execution_count": 83,
     "metadata": {},
     "output_type": "execute_result"
    }
   ],
   "source": [
    "iteration4_clusters = new_cluster_allotment(coordinates,iteration3_clusters)\n",
    "iteration4_clusters"
   ]
  },
  {
   "cell_type": "code",
   "execution_count": 86,
   "metadata": {},
   "outputs": [],
   "source": [
    "def k_means_clustering(coordinates,clusters):\n",
    "    prev =[]\n",
    "    current = clusters\n",
    "    iteration = 0\n",
    "    while(current!=prev):\n",
    "        prev = current\n",
    "        current = new_cluster_allotment(coordinates,current)\n",
    "        print(\"\\nIteration:\",iteration+1)\n",
    "        print(\"\\nAfter iteration Centroids are:\",current)\n",
    "        iteration+=1\n",
    "        "
   ]
  },
  {
   "cell_type": "code",
   "execution_count": 85,
   "metadata": {},
   "outputs": [
    {
     "name": "stdout",
     "output_type": "stream",
     "text": [
      "\n",
      "Iteration: 1\n",
      "\n",
      "After iteration Centroids are: [(2.0, 10.0), (6.0, 6.0), (1.5, 3.5)]\n",
      "\n",
      "Iteration: 2\n",
      "\n",
      "After iteration Centroids are: [(3.0, 9.5), (6.5, 5.25), (1.5, 3.5)]\n",
      "\n",
      "Iteration: 3\n",
      "\n",
      "After iteration Centroids are: [(3.6666666666666665, 9.0), (7.0, 4.333333333333333), (1.5, 3.5)]\n",
      "\n",
      "Iteration: 4\n",
      "\n",
      "After iteration Centroids are: [(3.6666666666666665, 9.0), (7.0, 4.333333333333333), (1.5, 3.5)]\n"
     ]
    }
   ],
   "source": [
    "k_means_clustering(coordinates,current_clusters)"
   ]
  }
 ],
 "metadata": {
  "kernelspec": {
   "display_name": "Python 3",
   "language": "python",
   "name": "python3"
  },
  "language_info": {
   "codemirror_mode": {
    "name": "ipython",
    "version": 3
   },
   "file_extension": ".py",
   "mimetype": "text/x-python",
   "name": "python",
   "nbconvert_exporter": "python",
   "pygments_lexer": "ipython3",
   "version": "3.7.3"
  }
 },
 "nbformat": 4,
 "nbformat_minor": 2
}
