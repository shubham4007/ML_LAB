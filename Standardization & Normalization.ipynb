{
 "cells": [
  {
   "cell_type": "code",
   "execution_count": 1,
   "metadata": {},
   "outputs": [],
   "source": [
    "list=[2,4,32,5,65,89]"
   ]
  },
  {
   "cell_type": "code",
   "execution_count": 3,
   "metadata": {},
   "outputs": [],
   "source": [
    "def Normalize(l):\n",
    "    minValue = min(l)\n",
    "    maxValue = max(l)\n",
    "    result = []\n",
    "    for i in l:\n",
    "        result.append((i-minValue)/(maxValue-minValue))\n",
    "    return result"
   ]
  },
  {
   "cell_type": "code",
   "execution_count": 4,
   "metadata": {},
   "outputs": [
    {
     "data": {
      "text/plain": [
       "[0.0,\n",
       " 0.022988505747126436,\n",
       " 0.3448275862068966,\n",
       " 0.034482758620689655,\n",
       " 0.7241379310344828,\n",
       " 1.0]"
      ]
     },
     "execution_count": 4,
     "metadata": {},
     "output_type": "execute_result"
    }
   ],
   "source": [
    "Normalize(list)"
   ]
  },
  {
   "cell_type": "code",
   "execution_count": 15,
   "metadata": {},
   "outputs": [],
   "source": [
    "def meanFunc(l):\n",
    "    length = len(l)\n",
    "    sum=0\n",
    "    for i in l:\n",
    "        sum+=i\n",
    "    return sum/length"
   ]
  },
  {
   "cell_type": "code",
   "execution_count": 16,
   "metadata": {},
   "outputs": [],
   "source": [
    "def standardDeviation(l):\n",
    "    mean = meanFunc(l)\n",
    "    list2 =[]\n",
    "    for i in l:\n",
    "        list2.append((i-mean)**2)\n",
    "    return meanFunc(list2)**0.5"
   ]
  },
  {
   "cell_type": "code",
   "execution_count": 20,
   "metadata": {},
   "outputs": [],
   "source": [
    "def standardization(l):\n",
    "    mean = meanFunc(l);\n",
    "    sd = standardDeviation(l)\n",
    "    result = []\n",
    "    for i in l:\n",
    "        result.append((i-mean)/sd)\n",
    "    return result"
   ]
  },
  {
   "cell_type": "code",
   "execution_count": 21,
   "metadata": {},
   "outputs": [
    {
     "data": {
      "text/plain": [
       "[-0.9194880984453948,\n",
       " -0.8598456271948827,\n",
       " -0.024851029687713442,\n",
       " -0.8300243915696266,\n",
       " 0.959249745945736,\n",
       " 1.6749594009518811]"
      ]
     },
     "execution_count": 21,
     "metadata": {},
     "output_type": "execute_result"
    }
   ],
   "source": [
    "l = [2,4,32,5,65,89]\n",
    "standardization(l)"
   ]
  },
  {
   "cell_type": "code",
   "execution_count": null,
   "metadata": {},
   "outputs": [],
   "source": []
  }
 ],
 "metadata": {
  "kernelspec": {
   "display_name": "Python 3",
   "language": "python",
   "name": "python3"
  },
  "language_info": {
   "codemirror_mode": {
    "name": "ipython",
    "version": 3
   },
   "file_extension": ".py",
   "mimetype": "text/x-python",
   "name": "python",
   "nbconvert_exporter": "python",
   "pygments_lexer": "ipython3",
   "version": "3.7.3"
  }
 },
 "nbformat": 4,
 "nbformat_minor": 2
}
